{
 "cells": [
  {
   "cell_type": "markdown",
   "id": "269906e7",
   "metadata": {},
   "source": [
    "<h1>Problem Set 2</h1>\n",
    "<p>By: Tathagat Arya</p>\n",
    "<p>200503756</p>"
   ]
  },
  {
   "cell_type": "markdown",
   "id": "a90b607e",
   "metadata": {},
   "source": [
    "<h4>Question 1</h4>"
   ]
  },
  {
   "cell_type": "code",
   "execution_count": 1,
   "id": "e0687c02",
   "metadata": {},
   "outputs": [
    {
     "data": {
      "text/plain": [
       "6"
      ]
     },
     "execution_count": 1,
     "metadata": {},
     "output_type": "execute_result"
    }
   ],
   "source": [
    "a = 0\n",
    "def b():\n",
    " global a\n",
    " a = c(a)\n",
    "def c(a):\n",
    " return a + 2\n",
    "\n",
    "b()\n",
    "b()\n",
    "b()\n",
    "a"
   ]
  },
  {
   "cell_type": "markdown",
   "id": "39babb3a",
   "metadata": {},
   "source": [
    "<p>In this question, when the function is called it is adding 2 to the previous value of 'a' thus giving us the value of 'a' as 6 at last after adding 2 to it three times since we called the function 3 times.</p>\n",
    "<p>In the first statement, we assigned the value of 'a' as 0. In the second statement, we defined a function names 'b'. Then we defined the variable 'a' as a Global variable to modify the variable outside of the current scope. Then we assigned the value to 'a' as the value which will be returned by the function named 'c' which is adding 2 to the previous value of 'a'.</p>"
   ]
  },
  {
   "cell_type": "markdown",
   "id": "025eefcd",
   "metadata": {},
   "source": [
    "<h4>Question 2</h4>"
   ]
  },
  {
   "cell_type": "code",
   "execution_count": 9,
   "id": "39f0a797",
   "metadata": {},
   "outputs": [
    {
     "name": "stdout",
     "output_type": "stream",
     "text": [
      "358\n",
      "File idterm.py not found.\n"
     ]
    }
   ],
   "source": [
    "def fileLength(fileName:str):\n",
    "    try:\n",
    "        file = open(\"C:\\\\Users\\\\tatha\\\\OneDrive\\\\Desktop\\\\hi.txt\")\n",
    "        contents = file.read()\n",
    "        file.close()\n",
    "        print(len(contents))\n",
    "        \n",
    "    except FileNotFoundError:\n",
    "        print(f\"File {fileName} not found.\")\n",
    "\n",
    "fileLength(\"midterm.py\")\n",
    "fileLength(\"idterm.py\")"
   ]
  },
  {
   "cell_type": "markdown",
   "id": "f3907acf",
   "metadata": {},
   "source": [
    "<h4>Question 3</h4>"
   ]
  },
  {
   "cell_type": "code",
   "execution_count": null,
   "id": "cf05b7a0",
   "metadata": {},
   "outputs": [],
   "source": [
    "class Marsupial:\n",
    "    def _init_(self):\n",
    "        self.itemList = []\n",
    "    def put_in_pouch(self, item: str):\n",
    "        self.itemList.append(item)\n",
    "    def pouch_contents(self):\n",
    "        print(self.itemList)\n",
    "\n",
    "m = Marsupial()\n",
    "m.put_in_pouch('doll')\n",
    "m.put_in_pouch('firetruck')\n",
    "m.put_in_pouch('kitten')\n",
    "m.pouch_contents()\n",
    "\n",
    "class Kangaroo(Marsupial):\n",
    "    \n",
    "    def _init_(self, x, y):\n",
    "        Marsupial._init_(self)\n",
    "        self.x = x\n",
    "        self.y = y\n",
    "    def jump(self, dx, dy):\n",
    "        self.x += dx\n",
    "        self.y += dy\n",
    "    def _repr_(self):\n",
    "        return(f'I am a Kangaroo located at coordinates ({self.x},{self.y})')\n",
    "\n",
    "k = Kangaroo(0,0) \n",
    "print(k)\n",
    "k.put_in_pouch('doll')\n",
    "k.put_in_pouch('firetruck') \n",
    "k.put_in_pouch('kitten') \n",
    "k.pouch_contents() \n",
    "k.jump(1,0)\n",
    "k.jump(1,0)\n",
    "k.jump(1,0)\n",
    "print(k)"
   ]
  },
  {
   "cell_type": "markdown",
   "id": "0dd5f4ff",
   "metadata": {},
   "source": [
    "<h4>Question 4</h4>"
   ]
  },
  {
   "cell_type": "code",
   "execution_count": 5,
   "id": "b61827f0",
   "metadata": {},
   "outputs": [
    {
     "name": "stdout",
     "output_type": "stream",
     "text": [
      "1\n",
      "10\n",
      "5\n",
      "16\n",
      "8\n",
      "4\n",
      "2\n",
      "1\n"
     ]
    }
   ],
   "source": [
    "def collatz(x):\n",
    "    n = x\n",
    "    while(n>1):\n",
    "        if n%2==0:\n",
    "            print(n)\n",
    "            n = n//2\n",
    "        elif n%2==1:\n",
    "            print(n)\n",
    "            n = 3*n+1\n",
    "    print(1)\n",
    "\n",
    "collatz(1)\n",
    "collatz(10)"
   ]
  },
  {
   "cell_type": "markdown",
   "id": "717f2bc6",
   "metadata": {},
   "source": [
    "<h4>Question 5</h4>"
   ]
  },
  {
   "cell_type": "code",
   "execution_count": 4,
   "id": "b2f51e17",
   "metadata": {},
   "outputs": [
    {
     "name": "stdout",
     "output_type": "stream",
     "text": [
      "0\n",
      "1\n",
      "11\n",
      "1001\n"
     ]
    }
   ],
   "source": [
    "def binary(n):\n",
    "    if n<2:\n",
    "        return n\n",
    "    else:\n",
    "        return str(binary(n//2))+str(n%2)\n",
    "\n",
    "print(binary(0))\n",
    "print(binary(1))\n",
    "print(binary(3))\n",
    "print(binary(9))"
   ]
  },
  {
   "cell_type": "markdown",
   "id": "9054122c",
   "metadata": {},
   "source": [
    "<h4>Question 6</h4>"
   ]
  },
  {
   "cell_type": "code",
   "execution_count": 6,
   "id": "86f2e259",
   "metadata": {},
   "outputs": [
    {
     "name": "stdout",
     "output_type": "stream",
     "text": [
      "W3C Mission\n",
      "\tPrinciples\n",
      " \n",
      "\n",
      "\n",
      "\n"
     ]
    }
   ],
   "source": [
    "from html.parser import HTMLParser\n",
    "class HeadingParser(HTMLParser):\n",
    "    h1 = False\n",
    "    def handle_starttag(s,t,a):\n",
    "        if t=='h1':\n",
    "            s.h1 = True\n",
    "             \n",
    "    def handle_data(s,d):\n",
    "        if s.h1:\n",
    "            print(d,end ='')\n",
    "\n",
    "infile = open('w3c.html')\n",
    "content = infile.read()\n",
    "infile.close()\n",
    "hp = HeadingParser()\n",
    "hp.feed(content)"
   ]
  },
  {
   "cell_type": "markdown",
   "id": "c61a9a27",
   "metadata": {},
   "source": [
    "<h4>Question 7</h4>"
   ]
  },
  {
   "cell_type": "code",
   "execution_count": null,
   "id": "17f019dd",
   "metadata": {},
   "outputs": [],
   "source": []
  },
  {
   "cell_type": "markdown",
   "id": "32c68658",
   "metadata": {},
   "source": [
    "<h4>Question 8</h4>"
   ]
  },
  {
   "cell_type": "markdown",
   "id": "e6d28b40",
   "metadata": {},
   "source": [
    "<p>a. SELECT Temperature FROM Table</p>\n",
    "<p>b. SELECT DISTINCT City FROM Table</p>\n",
    "<p>c. SELECT * FROM Table WHERE Country = 'India'</p>\n",
    "<p>d. SELECT * FROM Table WHERE Season = 'Fall'</p>\n",
    "<p>e. SELECT City, Country, Season FROM Table WHERE Rainfall BETWEEN 200 AND 400</p>\n",
    "<p>f. SELECT City, Country FROM Table WHERE Temperature > 20 ORDER by Freq ASC</p>\n",
    "<p>g. SELECT SUM(Rainfall) FROM Table WHERE CITY = 'Cairo'</p>\n",
    "<p>h. SELECT SUM(Rainfall) FROM Table GROUP BY Season</p>"
   ]
  },
  {
   "cell_type": "markdown",
   "id": "8ab34b21",
   "metadata": {},
   "source": [
    "<h4>Question 9</h4>"
   ]
  },
  {
   "cell_type": "code",
   "execution_count": 8,
   "id": "83c4ea39",
   "metadata": {},
   "outputs": [
    {
     "name": "stdout",
     "output_type": "stream",
     "text": [
      "['THE', 'QUICK', 'BROWN', 'FOX', 'JUMPS', 'OVER', 'THE', 'LAZY', 'DOG'] \n",
      "\n",
      "['the', 'quick', 'brown', 'fox', 'jumps', 'over', 'the', 'lazy', 'dog'] \n",
      "\n",
      "[3, 5, 5, 3, 5, 4, 3, 4, 3] \n",
      "\n",
      "[['THE', 'the', 3], ['QUICK', 'quick', 5], ['BROWN', 'brown', 5], ['FOX', 'fox', 3], ['JUMPS', 'jumps', 5], ['OVER', 'over', 4], ['THE', 'the', 3], ['LAZY', 'lazy', 4], ['DOG', 'dog', 3]] \n",
      "\n",
      "['quick', 'brown', 'jumps', 'over', 'lazy']\n"
     ]
    }
   ],
   "source": [
    "words = ['The','quick','brown','fox','jumps','over','the','lazy','dog']\n",
    "a = [x.upper() for x in words]\n",
    "print(a,\"\\n\")\n",
    "b = [x.lower() for x in words]\n",
    "print(b,\"\\n\")\n",
    "c = [len(x) for x in words]\n",
    "print(c,\"\\n\")\n",
    "d = [[x.upper(), x.lower(), len(x)] for x in words]\n",
    "print(d,\"\\n\")\n",
    "e = [x for x in words if len(x) >= 4]\n",
    "print(e)"
   ]
  }
 ],
 "metadata": {
  "kernelspec": {
   "display_name": "Python 3 (ipykernel)",
   "language": "python",
   "name": "python3"
  },
  "language_info": {
   "codemirror_mode": {
    "name": "ipython",
    "version": 3
   },
   "file_extension": ".py",
   "mimetype": "text/x-python",
   "name": "python",
   "nbconvert_exporter": "python",
   "pygments_lexer": "ipython3",
   "version": "3.9.7"
  }
 },
 "nbformat": 4,
 "nbformat_minor": 5
}
